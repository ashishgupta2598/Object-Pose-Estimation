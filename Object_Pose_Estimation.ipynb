{
  "nbformat": 4,
  "nbformat_minor": 0,
  "metadata": {
    "colab": {
      "name": "Object Pose Estimation.ipynb",
      "version": "0.3.2",
      "provenance": [],
      "collapsed_sections": []
    },
    "kernelspec": {
      "name": "python3",
      "display_name": "Python 3"
    },
    "accelerator": "GPU"
  },
  "cells": [
    {
      "cell_type": "code",
      "metadata": {
        "id": "WaCAzUUDOu3S",
        "colab_type": "code",
        "colab": {}
      },
      "source": [
        "import json\n",
        "from PIL import Image\n",
        "import pandas as pd\n",
        "import torch\n",
        "from torchvision import transforms"
      ],
      "execution_count": 0,
      "outputs": []
    },
    {
      "cell_type": "code",
      "metadata": {
        "id": "yI4uupYdPSMa",
        "colab_type": "code",
        "colab": {}
      },
      "source": [
        ""
      ],
      "execution_count": 0,
      "outputs": []
    },
    {
      "cell_type": "code",
      "metadata": {
        "id": "nOvOI6qpO5n4",
        "colab_type": "code",
        "colab": {}
      },
      "source": [
        ""
      ],
      "execution_count": 0,
      "outputs": []
    },
    {
      "cell_type": "markdown",
      "metadata": {
        "id": "q6aOGyEeafBc",
        "colab_type": "text"
      },
      "source": [
        "Link to "
      ]
    },
    {
      "cell_type": "code",
      "metadata": {
        "id": "F21OYwGrPH7E",
        "colab_type": "code",
        "colab": {}
      },
      "source": [
        "#Connecting google drive with colab\n",
        "from google.colab import drive\n",
        "drive.mount('/content/drive',force_remount=True)"
      ],
      "execution_count": 0,
      "outputs": []
    },
    {
      "cell_type": "code",
      "metadata": {
        "id": "HuvPbsS7Knfc",
        "colab_type": "code",
        "colab": {}
      },
      "source": [
        "\n",
        "\n",
        "transform=transforms.Compose([\n",
        "  transforms.CenterCrop((128,128)),\n",
        "  transforms.ToTensor(),\n",
        " ])\n"
      ],
      "execution_count": 0,
      "outputs": []
    },
    {
      "cell_type": "markdown",
      "metadata": {
        "id": "Wk4uCdfqQjV0",
        "colab_type": "text"
      },
      "source": [
        "#About the Dataset\n",
        "In the Dataset conntains  the rendering parameters are given.\n",
        "In each rendering folder, there is a metadata file for all images. Each row describes the parameters for an image. The first three numbers are pitch, roll, yaw, the fourth number is the distance between the center of the object and the camera. The fifth number is half of the camera FOV."
      ]
    },
    {
      "cell_type": "code",
      "metadata": {
        "id": "fOoHwtcSZCq3",
        "colab_type": "code",
        "colab": {}
      },
      "source": [
        "\n"
      ],
      "execution_count": 0,
      "outputs": []
    },
    {
      "cell_type": "markdown",
      "metadata": {
        "id": "GicMrAfzPtRV",
        "colab_type": "text"
      },
      "source": [
        "As the data contatins too many files and  its difficult to upload all, So i created a .npy folder.Link below in the text. \\\n",
        "Training_Label(Target) Data----https://drive.google.com/open?id=11oIPnNgjuyreib2hvoDPoQYYtOtBRpAB\n",
        "\n",
        "Training_Images---https://drive.google.com/open?id=1gOaDUXZZAKImdNlMdjWtj3cjj9o4Q1Cw\n"
      ]
    },
    {
      "cell_type": "code",
      "metadata": {
        "id": "lvWuQBL-5mSq",
        "colab_type": "code",
        "colab": {}
      },
      "source": [
        " \n",
        "\n",
        "import numpy as np\n",
        "\n",
        "train_data=torch.tensor(np.load(\"/content/drive/My Drive/Data/images_200.npy\"))#Loding traning data\n",
        "train_label=(np.load(\"/content/drive/My Drive/Data/PoseEstimation_200.npy\"))#Loading testing data which contatin s rotational data \n",
        "#####Padding 0's for shapeNet\n",
        "pad=np.zeros((4,200,24,3))\n",
        "train_label=torch.tensor(np.concatenate((train_label,pad),axis=3))#In ShapeNet dataset as images are CAD Designed So Translation(tx,ty,tz) is 0 and in the dataset the YAW(third angle) is also zero."
      ],
      "execution_count": 0,
      "outputs": []
    },
    {
      "cell_type": "code",
      "metadata": {
        "id": "KfcZm5-5Sgue",
        "colab_type": "code",
        "outputId": "afb14b93-5b12-4801-9b9f-2d6ea0be8925",
        "colab": {
          "base_uri": "https://localhost:8080/",
          "height": 3687
        }
      },
      "source": [
        "train_label1=train_label[:,:,:,:2]#Checking out the 2 angles.\n",
        "train_label1"
      ],
      "execution_count": 0,
      "outputs": [
        {
          "output_type": "execute_result",
          "data": {
            "text/plain": [
              "array([[[[327.83063  ,  28.339148 ],\n",
              "         [ 81.787415 ,  26.986286 ],\n",
              "         [ 92.53842  ,  26.447636 ],\n",
              "         ...,\n",
              "         [287.70966  ,  27.19946  ],\n",
              "         [261.9943   ,  26.707312 ],\n",
              "         [ 24.37572  ,  27.780745 ]],\n",
              "\n",
              "        [[169.87946  ,  26.46758  ],\n",
              "         [341.0166   ,  26.659391 ],\n",
              "         [276.4787   ,  29.246212 ],\n",
              "         ...,\n",
              "         [340.47952  ,  28.376514 ],\n",
              "         [ 57.655544 ,  26.799463 ],\n",
              "         [185.12825  ,  29.92743  ]],\n",
              "\n",
              "        [[297.69443  ,  28.096058 ],\n",
              "         [309.6923   ,  26.328115 ],\n",
              "         [169.68329  ,  26.88502  ],\n",
              "         ...,\n",
              "         [173.0978   ,  27.204275 ],\n",
              "         [326.5601   ,  28.89589  ],\n",
              "         [ 24.343206 ,  27.858917 ]],\n",
              "\n",
              "        ...,\n",
              "\n",
              "        [[ 81.33051  ,  29.966843 ],\n",
              "         [ 25.968462 ,  26.442429 ],\n",
              "         [296.63834  ,  25.248837 ],\n",
              "         ...,\n",
              "         [ 92.238815 ,  26.423494 ],\n",
              "         [109.277855 ,  27.510363 ],\n",
              "         [ 68.93004  ,  27.427126 ]],\n",
              "\n",
              "        [[ 74.58996  ,  26.317463 ],\n",
              "         [238.38089  ,  25.03715  ],\n",
              "         [ 18.836687 ,  27.33879  ],\n",
              "         ...,\n",
              "         [ 44.67592  ,  25.668167 ],\n",
              "         [ 24.5097   ,  26.224567 ],\n",
              "         [177.65413  ,  28.11618  ]],\n",
              "\n",
              "        [[ 17.16959  ,  28.43616  ],\n",
              "         [185.02524  ,  28.237148 ],\n",
              "         [186.77472  ,  25.768139 ],\n",
              "         ...,\n",
              "         [ 60.17753  ,  25.874266 ],\n",
              "         [  1.4309143,  25.416569 ],\n",
              "         [195.49693  ,  28.836596 ]]],\n",
              "\n",
              "\n",
              "       [[[ 82.266426 ,  25.206213 ],\n",
              "         [117.98432  ,  25.678577 ],\n",
              "         [276.83194  ,  29.62354  ],\n",
              "         ...,\n",
              "         [179.26872  ,  27.51319  ],\n",
              "         [277.02988  ,  28.539116 ],\n",
              "         [325.24686  ,  29.622135 ]],\n",
              "\n",
              "        [[ 79.0516   ,  25.823494 ],\n",
              "         [315.5455   ,  29.201817 ],\n",
              "         [ 62.149902 ,  28.581888 ],\n",
              "         ...,\n",
              "         [282.58035  ,  25.521013 ],\n",
              "         [116.0521   ,  26.017044 ],\n",
              "         [188.07951  ,  28.016304 ]],\n",
              "\n",
              "        [[ 19.537283 ,  27.059044 ],\n",
              "         [259.40765  ,  27.165628 ],\n",
              "         [113.91477  ,  28.690844 ],\n",
              "         ...,\n",
              "         [226.34608  ,  26.040434 ],\n",
              "         [146.15192  ,  28.54623  ],\n",
              "         [118.782875 ,  27.891884 ]],\n",
              "\n",
              "        ...,\n",
              "\n",
              "        [[ 53.414886 ,  25.127026 ],\n",
              "         [143.27365  ,  28.018093 ],\n",
              "         [ 85.11241  ,  27.95148  ],\n",
              "         ...,\n",
              "         [293.55518  ,  26.855585 ],\n",
              "         [137.30681  ,  28.901419 ],\n",
              "         [166.50919  ,  29.485706 ]],\n",
              "\n",
              "        [[157.43555  ,  28.461817 ],\n",
              "         [229.33725  ,  27.416473 ],\n",
              "         [ 18.31681  ,  26.645403 ],\n",
              "         ...,\n",
              "         [ 97.46494  ,  28.374132 ],\n",
              "         [134.70154  ,  28.620249 ],\n",
              "         [157.03954  ,  25.159964 ]],\n",
              "\n",
              "        [[ 23.162994 ,  27.477486 ],\n",
              "         [200.30878  ,  27.278858 ],\n",
              "         [234.63824  ,  28.620296 ],\n",
              "         ...,\n",
              "         [ 27.08713  ,  27.073843 ],\n",
              "         [ 41.538082 ,  29.45163  ],\n",
              "         [103.46889  ,  29.669413 ]]],\n",
              "\n",
              "\n",
              "       [[[209.19037  ,  25.420837 ],\n",
              "         [ 41.1982   ,  25.609737 ],\n",
              "         [182.24911  ,  26.363987 ],\n",
              "         ...,\n",
              "         [300.14835  ,  25.4276   ],\n",
              "         [166.68962  ,  28.374308 ],\n",
              "         [354.10254  ,  26.752573 ]],\n",
              "\n",
              "        [[104.76276  ,  26.331196 ],\n",
              "         [195.99707  ,  27.34998  ],\n",
              "         [133.10852  ,  27.546738 ],\n",
              "         ...,\n",
              "         [353.2715   ,  26.30664  ],\n",
              "         [ 80.36568  ,  28.198236 ],\n",
              "         [ 51.640858 ,  28.822323 ]],\n",
              "\n",
              "        [[346.61163  ,  25.90736  ],\n",
              "         [254.86566  ,  29.044142 ],\n",
              "         [151.02689  ,  26.743952 ],\n",
              "         ...,\n",
              "         [346.64456  ,  25.465399 ],\n",
              "         [224.9573   ,  27.651865 ],\n",
              "         [308.31012  ,  25.84187  ]],\n",
              "\n",
              "        ...,\n",
              "\n",
              "        [[  7.81526  ,  29.219173 ],\n",
              "         [112.18095  ,  27.209421 ],\n",
              "         [  6.7351065,  27.446127 ],\n",
              "         ...,\n",
              "         [ 39.748287 ,  26.990076 ],\n",
              "         [173.74474  ,  26.777092 ],\n",
              "         [ 27.998692 ,  28.84752  ]],\n",
              "\n",
              "        [[332.34027  ,  29.731346 ],\n",
              "         [157.0381   ,  26.15153  ],\n",
              "         [316.06638  ,  29.997593 ],\n",
              "         ...,\n",
              "         [215.11162  ,  28.157566 ],\n",
              "         [267.83267  ,  29.654829 ],\n",
              "         [301.52     ,  26.910254 ]],\n",
              "\n",
              "        [[166.33952  ,  29.748577 ],\n",
              "         [128.40645  ,  29.806955 ],\n",
              "         [351.73257  ,  29.026985 ],\n",
              "         ...,\n",
              "         [316.42035  ,  26.694191 ],\n",
              "         [142.94766  ,  27.088203 ],\n",
              "         [ 73.81575  ,  26.689674 ]]],\n",
              "\n",
              "\n",
              "       [[[209.19037  ,  25.420837 ],\n",
              "         [ 41.1982   ,  25.609737 ],\n",
              "         [182.24911  ,  26.363987 ],\n",
              "         ...,\n",
              "         [300.14835  ,  25.4276   ],\n",
              "         [166.68962  ,  28.374308 ],\n",
              "         [354.10254  ,  26.752573 ]],\n",
              "\n",
              "        [[104.76276  ,  26.331196 ],\n",
              "         [195.99707  ,  27.34998  ],\n",
              "         [133.10852  ,  27.546738 ],\n",
              "         ...,\n",
              "         [353.2715   ,  26.30664  ],\n",
              "         [ 80.36568  ,  28.198236 ],\n",
              "         [ 51.640858 ,  28.822323 ]],\n",
              "\n",
              "        [[346.61163  ,  25.90736  ],\n",
              "         [254.86566  ,  29.044142 ],\n",
              "         [151.02689  ,  26.743952 ],\n",
              "         ...,\n",
              "         [346.64456  ,  25.465399 ],\n",
              "         [224.9573   ,  27.651865 ],\n",
              "         [308.31012  ,  25.84187  ]],\n",
              "\n",
              "        ...,\n",
              "\n",
              "        [[  7.81526  ,  29.219173 ],\n",
              "         [112.18095  ,  27.209421 ],\n",
              "         [  6.7351065,  27.446127 ],\n",
              "         ...,\n",
              "         [ 39.748287 ,  26.990076 ],\n",
              "         [173.74474  ,  26.777092 ],\n",
              "         [ 27.998692 ,  28.84752  ]],\n",
              "\n",
              "        [[332.34027  ,  29.731346 ],\n",
              "         [157.0381   ,  26.15153  ],\n",
              "         [316.06638  ,  29.997593 ],\n",
              "         ...,\n",
              "         [215.11162  ,  28.157566 ],\n",
              "         [267.83267  ,  29.654829 ],\n",
              "         [301.52     ,  26.910254 ]],\n",
              "\n",
              "        [[166.33952  ,  29.748577 ],\n",
              "         [128.40645  ,  29.806955 ],\n",
              "         [351.73257  ,  29.026985 ],\n",
              "         ...,\n",
              "         [316.42035  ,  26.694191 ],\n",
              "         [142.94766  ,  27.088203 ],\n",
              "         [ 73.81575  ,  26.689674 ]]]], dtype=float32)"
            ]
          },
          "metadata": {
            "tags": []
          },
          "execution_count": 12
        }
      ]
    },
    {
      "cell_type": "code",
      "metadata": {
        "id": "4k_FC2K5IJHx",
        "colab_type": "code",
        "colab": {}
      },
      "source": [
        "import numpy as np\n",
        "from torch.autograd import Variable\n",
        "import torch.nn as nn\n",
        "from torch.nn import Linear,Conv2d,MaxPool2d,LeakyReLU,Tanh,Sigmoid"
      ],
      "execution_count": 0,
      "outputs": []
    },
    {
      "cell_type": "code",
      "metadata": {
        "id": "rLgndhGTShxO",
        "colab_type": "code",
        "colab": {}
      },
      "source": [
        "\n",
        "class GRUNet(nn.Module):\n",
        "  def __init__(self):\n",
        "        print('\\nGruInitializing')\n",
        "        super(GRUNet,self).__init__()\n",
        "        \n",
        "        self.is_x_tensor4 = False\n",
        "        \n",
        "        self.batch_size, self.img_w, self.img_h=1,128,128\n",
        "        \n",
        "        self.input_shape = (self.batch_size, 3, self.img_w, self.img_h)\n",
        "        \n",
        "        #number of filters for each convolution layer in the encoder\n",
        "        self.n_convfilter = [96, 128, 256, 256, 256, 256]  \n",
        "        \n",
        "        #the dimension of the fully connected layer\n",
        "        self.n_fc_filters = [1024]\n",
        "        \n",
        "       \n",
        "        self.encoder=encoder(self.input_shape,self.n_convfilter,\\\n",
        "                            self.n_fc_filters)\n",
        "        \n",
        "       \n",
        "  def forward(self,x):\n",
        "    output= self.encoder(x)\n",
        "    \n",
        "    return output\n",
        "      \n",
        "  \n",
        " "
      ],
      "execution_count": 0,
      "outputs": []
    },
    {
      "cell_type": "code",
      "metadata": {
        "id": "_gBGk4NOEMhO",
        "colab_type": "code",
        "colab": {}
      },
      "source": [
        ""
      ],
      "execution_count": 0,
      "outputs": []
    },
    {
      "cell_type": "markdown",
      "metadata": {
        "id": "v-9alY9nRWms",
        "colab_type": "text"
      },
      "source": [
        "#The Neural Architecture(Deep Res Net)\n",
        "[Neural Architecture](https://user-images.githubusercontent.com/40520042/64719962-fe911b80-d4e6-11e9-88c0-6b941905de53.png)"
      ]
    },
    {
      "cell_type": "code",
      "metadata": {
        "id": "DYmgwZj8FAt8",
        "colab_type": "code",
        "colab": {}
      },
      "source": [
        ""
      ],
      "execution_count": 0,
      "outputs": []
    },
    {
      "cell_type": "code",
      "metadata": {
        "id": "RmR7gKG05EDb",
        "colab_type": "code",
        "colab": {}
      },
      "source": [
        "#model(train_img[1].cuda())\n",
        "\n",
        "class encoder(nn.Module):\n",
        "  def __init__(self,input_shape,n_convfilter,\\\n",
        "               n_fc_filters):\n",
        "        print(\"\\ninitalizing \\\"encoder\\\"\")\n",
        "        super(encoder,self).__init__()\n",
        "        #conv1\n",
        "        self.conv1a = Conv2d(input_shape[1], n_convfilter[0], 7, padding=3,stride=1)#\n",
        "        self.conv1b = Conv2d(n_convfilter[0], n_convfilter[0], 3, padding=1,stride=1)\n",
        "        self.bn1 = nn.BatchNorm2d( n_convfilter[0])\n",
        "        \n",
        "        #conv2\n",
        "        self.conv2a = Conv2d(n_convfilter[0], n_convfilter[1], 3, padding=1,stride=1)\n",
        "        self.conv2b = Conv2d(n_convfilter[1], n_convfilter[1], 3, padding=1,stride=1)\n",
        "        self.conv2c = Conv2d(n_convfilter[0], n_convfilter[1], 1)\n",
        "        self.bn2 = nn.BatchNorm2d( n_convfilter[1])\n",
        "        #conv3\n",
        "        self.conv3a = Conv2d(n_convfilter[1], n_convfilter[2], 3, padding=1,stride=1)\n",
        "        self.conv3b = Conv2d(n_convfilter[2], n_convfilter[2], 3, padding=1,stride=1)\n",
        "        self.conv3c = Conv2d(n_convfilter[1], n_convfilter[2], 1)\n",
        "        self.bn3 = nn.BatchNorm2d( n_convfilter[2])\n",
        "        #conv4\n",
        "        self.conv4a = Conv2d(n_convfilter[2], n_convfilter[3], 3, padding=1,stride=1)\n",
        "        self.conv4b = Conv2d(n_convfilter[3], n_convfilter[3], 3, padding=1,stride=1)\n",
        "        self.bn4 = nn.BatchNorm2d( n_convfilter[3])\n",
        "        #conv5\n",
        "        self.conv5a = Conv2d(n_convfilter[3], n_convfilter[4], 3, padding=1,stride=1)\n",
        "        self.conv5b = Conv2d(n_convfilter[4], n_convfilter[4], 3, padding=1,stride=1)\n",
        "        self.conv5c = Conv2d(n_convfilter[3], n_convfilter[4], 1)\n",
        "        self.bn5 = nn.BatchNorm2d( n_convfilter[4])\n",
        "        #conv6\n",
        "        self.conv6a = Conv2d(n_convfilter[4], n_convfilter[5], 3, padding=1,stride=1)\n",
        "        self.conv6b = Conv2d(n_convfilter[5], n_convfilter[5], 3, padding=1,stride=1)\n",
        "        self.bn67 = nn.BatchNorm2d( n_convfilter[5])\n",
        "        \n",
        "        \n",
        "        \n",
        "        \n",
        "        #pooling layer\n",
        "        self.pool1 = MaxPool2d(kernel_size= 2,stride=2)#,return_indices=True)\n",
        "        self.pool2 = MaxPool2d(kernel_size=1,stride=2)#,return_indices=True)\n",
        "        #self.gpool=nn.AvgPool2d(kernel_size=2,stride=1)\n",
        "        \n",
        "        #nonlinearities of the network\n",
        "        self.leaky_relu = LeakyReLU(negative_slope= 0.01)\n",
        "        #self.sigmoid = Sigmoi\n",
        "        self.tanh = Tanh()\n",
        "        \n",
        "        self.fc7 = Linear(1*1*256, 1024)\n",
        "        self.fc8 = Linear(1024, 256)\n",
        "        self.fc9 = Linear(256, 2)\n",
        "            \n",
        "        \n",
        "            \n",
        "  def forward(self, x):\n",
        "        idx1,idx2,idx3=0,0,0\n",
        "        #x is the input and the size of x is (batch_size, channels, heights, widths).\n",
        "        \n",
        "        conv1a = self.conv1a(x)\n",
        "        rect1a = self.leaky_relu(conv1a)\n",
        "        conv1b = self.conv1b(rect1a)\n",
        "        \n",
        "        rect1 = self.leaky_relu(conv1b)\n",
        "        pool1= self.pool1(rect1)\n",
        "        pool1=self.bn1(pool1)\n",
        "        \n",
        "        conv2a = self.conv2a(pool1)\n",
        "        rect2a = self.leaky_relu(conv2a)\n",
        "        conv2b = self.conv2b(rect2a)\n",
        "        \n",
        "        rect2 = self.leaky_relu(conv2b)\n",
        "        conv2c = self.conv2c(pool1)\n",
        "        res2 = conv2c + rect2\n",
        "        pool2= self.pool2(res2)\n",
        "        \n",
        "        pool2=self.bn2(pool2)\n",
        "        \n",
        "        conv3a = self.conv3a(pool2)\n",
        "        rect3a = self.leaky_relu(conv3a)\n",
        "        conv3b = self.conv3b(rect3a)\n",
        "        \n",
        "        rect3 = self.leaky_relu(conv3b)\n",
        "        conv3c = self.conv3c(pool2)\n",
        "        res3 = conv3c + rect3\n",
        "        \n",
        "        pool3= self.pool2(res3)\n",
        "        pool3=self.bn3(pool3)\n",
        "        \n",
        "        conv4a = self.conv4a(pool3)\n",
        "        rect4a = self.leaky_relu(conv4a)\n",
        "        conv4b = self.conv4b(rect4a)\n",
        "        rect4 = self.leaky_relu(conv4b)\n",
        "        pool4= self.pool2(rect4)\n",
        "        \n",
        "        pool4=self.bn4(pool4)\n",
        "        \n",
        "        conv5a = self.conv5a(pool4)\n",
        "        rect5a = self.leaky_relu(conv5a)\n",
        "        conv5b = self.conv5b(rect5a)\n",
        "        rect5 = self.leaky_relu(conv5b)\n",
        "        conv5c = self.conv5c(pool4)\n",
        "        res5 = conv5c + rect5\n",
        "        pool5= self.pool2(res5)\n",
        "        \n",
        "        pool5=self.bn5(pool5)\n",
        "        \n",
        "        conv6a = self.conv6a(pool5)\n",
        "        rect6a = self.leaky_relu(conv6a)\n",
        "        conv6b = self.conv6b(rect6a)\n",
        "        rect6 = self.leaky_relu(conv6b)\n",
        "        res6  = pool5 + rect6\n",
        "        pool6 = self.pool2(res6)\n",
        "        \n",
        "        pool7=self.bn67(pool6)\n",
        "        \n",
        "       \n",
        "        gpool=self.gpool(pool7)\n",
        "      \n",
        "        \n",
        "        fc= gpool.view(gpool.size(0), -1)\n",
        "       # print(fc.shape)\n",
        "                \n",
        "        fc7=self.fc7(fc)\n",
        "        \n",
        "        fc8=self.fc8(fc7)\n",
        "        fc9=self.fc9(fc8)\n",
        "        \n",
        "       \n",
        "        \n",
        "        #print(rect7.shape)\n",
        "        \n",
        "        return fc9\n",
        "    "
      ],
      "execution_count": 0,
      "outputs": []
    },
    {
      "cell_type": "code",
      "metadata": {
        "id": "px5taM7rYDsx",
        "colab_type": "code",
        "colab": {}
      },
      "source": [
        ""
      ],
      "execution_count": 0,
      "outputs": []
    },
    {
      "cell_type": "code",
      "metadata": {
        "id": "a45qYWRYGz7X",
        "colab_type": "code",
        "outputId": "d6637109-102a-42dc-ea48-881bc56e3003",
        "colab": {
          "base_uri": "https://localhost:8080/",
          "height": 90
        }
      },
      "source": [
        "#Object creation and testing\n",
        "model=GRUNet().cuda()\n",
        "out=model(train_data[1].cuda())\n"
      ],
      "execution_count": 0,
      "outputs": [
        {
          "output_type": "stream",
          "text": [
            "\n",
            "GruInitializing\n",
            "\n",
            "initalizing \"encoder\"\n"
          ],
          "name": "stdout"
        }
      ]
    },
    {
      "cell_type": "code",
      "metadata": {
        "id": "UmYHCwiwttfV",
        "colab_type": "code",
        "colab": {}
      },
      "source": [
        ""
      ],
      "execution_count": 0,
      "outputs": []
    },
    {
      "cell_type": "code",
      "metadata": {
        "id": "6-6v0y9NtNQu",
        "colab_type": "code",
        "colab": {}
      },
      "source": [
        ""
      ],
      "execution_count": 0,
      "outputs": []
    },
    {
      "cell_type": "code",
      "metadata": {
        "id": "aY_PvAzNYWbC",
        "colab_type": "code",
        "colab": {}
      },
      "source": [
        "import torch.optim as optim\n",
        "\n",
        "# specify loss function (categorical cross-entropy)\n",
        "criterion =  nn.L1Loss()# L1Loss is used \n",
        "# specify optimizer\n",
        "optimizer = optim.Adam(model.parameters(), lr=0.001)#Adam optimizer with learning rate of 0.001"
      ],
      "execution_count": 0,
      "outputs": []
    },
    {
      "cell_type": "code",
      "metadata": {
        "id": "Ua2Bpg5-Ykzq",
        "colab_type": "code",
        "colab": {}
      },
      "source": [
        ""
      ],
      "execution_count": 0,
      "outputs": []
    },
    {
      "cell_type": "markdown",
      "metadata": {
        "id": "oc5aZhnmYlej",
        "colab_type": "text"
      },
      "source": [
        "Here we have taken batch size of 16 with 1200 in total.\n",
        "As told translation angles are 0 and yaw is 0.\n",
        "So lets estimate the other two.\n",
        "\n"
      ]
    },
    {
      "cell_type": "code",
      "metadata": {
        "id": "PSsL9sMYYscQ",
        "colab_type": "code",
        "outputId": "3de5beed-7cbb-4728-848b-a056a041f294",
        "colab": {
          "base_uri": "https://localhost:8080/",
          "height": 53
        }
      },
      "source": [
        "print(train_data.shape)\n",
        "print(train_label1.shape)\n",
        "train_label1=torch.tensor(train_label1).view((1200,16,2))\n",
        "train_data=train_data.view((1200,16,3,128,128))#"
      ],
      "execution_count": 0,
      "outputs": [
        {
          "output_type": "stream",
          "text": [
            "torch.Size([1200, 16, 3, 128, 128])\n",
            "torch.Size([1200, 16, 2])\n"
          ],
          "name": "stdout"
        }
      ]
    },
    {
      "cell_type": "code",
      "metadata": {
        "id": "EIurTJaDE-bs",
        "colab_type": "code",
        "outputId": "1df88bf4-2979-405c-c7b0-4a35cdc6f143",
        "colab": {
          "base_uri": "https://localhost:8080/",
          "height": 782
        }
      },
      "source": [
        "n_epochs = 20\n",
        "#model=model.cuda()\n",
        "valid_loss_min = np.Inf # track change in validation loss\n",
        "model.train()\n",
        "train_loss = 0.0\n",
        "valid_loss=0.0\n",
        "import datetime\n",
        "for epoch in range(1, n_epochs+1):\n",
        "  \n",
        "    #scheduler.step() \n",
        "    print(\"EPOCH\" ,epoch)\n",
        "    #print(\"Learning Rate\",scheduler.get_lr())\n",
        "    train_loss = 0.0 \n",
        "    valid_loss=0.0\n",
        "    model.train()\n",
        "    for i in range(len(train_data)):\n",
        "          \n",
        "                data=train_data[i].cuda()\n",
        "                tar=train_label1[i].cuda()\n",
        "                tar=tar.float()\n",
        "\n",
        "\n",
        "                optimizer.zero_grad()\n",
        "\n",
        "                output=model(data)\n",
        "\n",
        "                loss = criterion(output, tar)\n",
        "\n",
        "                loss.backward()\n",
        "                optimizer.step()\n",
        "\n",
        "                train_loss += loss.item()*data.size(0)\n",
        "\n",
        "    print(\"ALL ABOUT LOSS(training)--------\",(train_loss/(len(train_data))))             \n",
        "\n",
        "\"\"\"    model.eval() \n",
        "    for j in range(len((list_tValid))):\n",
        "          valid_img5=list_tValid[j]\n",
        "          valid_target5=list_ValidL[j]         \n",
        "    \n",
        "          for i in range(len(valid_img5)):\n",
        "                data=valid_img5[i].cuda()\n",
        "                tar=valid_target5[i].cuda().long()\n",
        "                loss = torch.mean(criterion(model(data), tar))\n",
        "                valid_loss += loss.item()*data.size(0)\n",
        "\"\"\"\n",
        "      \n",
        "      \n",
        "#    print(\"ALL ABOUT LOSS(valid)--------\",(valid_loss/(len(valid_target)*4)))\n",
        " #   print(\" \")\n",
        "      \n"
      ],
      "execution_count": 0,
      "outputs": [
        {
          "output_type": "stream",
          "text": [
            "EPOCH 1\n",
            "ALL ABOUT LOSS(training)-------- 448.7939362271627\n",
            "EPOCH 2\n",
            "ALL ABOUT LOSS(training)-------- 362.1203946050008\n",
            "EPOCH 3\n",
            "ALL ABOUT LOSS(training)-------- 332.34549242019654\n",
            "EPOCH 4\n",
            "ALL ABOUT LOSS(training)-------- 312.6648017756144\n",
            "EPOCH 5\n",
            "ALL ABOUT LOSS(training)-------- 299.8508092021942\n",
            "EPOCH 6\n",
            "ALL ABOUT LOSS(training)-------- 287.09347827911375\n",
            "EPOCH 7\n",
            "ALL ABOUT LOSS(training)-------- 275.75534410476683\n",
            "EPOCH 8\n",
            "ALL ABOUT LOSS(training)-------- 265.95641799608865\n",
            "EPOCH 9\n",
            "ALL ABOUT LOSS(training)-------- 258.49188652356463\n",
            "EPOCH 10\n",
            "ALL ABOUT LOSS(training)-------- 249.10803530375162\n",
            "EPOCH 11\n",
            "ALL ABOUT LOSS(training)-------- 239.73272608121235\n",
            "EPOCH 12\n",
            "ALL ABOUT LOSS(training)-------- 232.19015185674033\n",
            "EPOCH 13\n",
            "ALL ABOUT LOSS(training)-------- 226.97227386156717\n",
            "EPOCH 14\n",
            "ALL ABOUT LOSS(training)-------- 221.0594281800588\n",
            "EPOCH 15\n",
            "ALL ABOUT LOSS(training)-------- 215.6503864256541\n",
            "EPOCH 16\n",
            "ALL ABOUT LOSS(training)-------- 212.82818539937338\n",
            "EPOCH 17\n",
            "ALL ABOUT LOSS(training)-------- 208.4066858482361\n",
            "EPOCH 18\n",
            "ALL ABOUT LOSS(training)-------- 207.37213194529215\n",
            "EPOCH 19\n",
            "ALL ABOUT LOSS(training)-------- 200.73684767723083\n",
            "EPOCH 20\n",
            "ALL ABOUT LOSS(training)-------- 198.95246093114218\n"
          ],
          "name": "stdout"
        },
        {
          "output_type": "execute_result",
          "data": {
            "text/plain": [
              "'    model.eval() \\n    for j in range(len((list_tValid))):\\n          valid_img5=list_tValid[j]\\n          valid_target5=list_ValidL[j]         \\n    \\n          for i in range(len(valid_img5)):\\n                data=valid_img5[i].cuda()\\n                tar=valid_target5[i].cuda().long()\\n                loss = torch.mean(criterion(model(data), tar))\\n                valid_loss += loss.item()*data.size(0)\\n'"
            ]
          },
          "metadata": {
            "tags": []
          },
          "execution_count": 48
        }
      ]
    },
    {
      "cell_type": "code",
      "metadata": {
        "id": "NGXauyR4FGem",
        "colab_type": "code",
        "outputId": "e7aa4c1f-9986-4dd4-8adb-8ea4638dfd46",
        "colab": {
          "base_uri": "https://localhost:8080/",
          "height": 617
        }
      },
      "source": [
        "model"
      ],
      "execution_count": 0,
      "outputs": [
        {
          "output_type": "execute_result",
          "data": {
            "text/plain": [
              "GRUNet(\n",
              "  (encoder): encoder(\n",
              "    (conv1a): Conv2d(3, 96, kernel_size=(7, 7), stride=(1, 1), padding=(3, 3))\n",
              "    (conv1b): Conv2d(96, 96, kernel_size=(3, 3), stride=(1, 1), padding=(1, 1))\n",
              "    (bn1): BatchNorm2d(96, eps=1e-05, momentum=0.1, affine=True, track_running_stats=True)\n",
              "    (conv2a): Conv2d(96, 128, kernel_size=(3, 3), stride=(1, 1), padding=(1, 1))\n",
              "    (conv2b): Conv2d(128, 128, kernel_size=(3, 3), stride=(1, 1), padding=(1, 1))\n",
              "    (conv2c): Conv2d(96, 128, kernel_size=(1, 1), stride=(1, 1))\n",
              "    (bn2): BatchNorm2d(128, eps=1e-05, momentum=0.1, affine=True, track_running_stats=True)\n",
              "    (conv3a): Conv2d(128, 256, kernel_size=(3, 3), stride=(1, 1), padding=(1, 1))\n",
              "    (conv3b): Conv2d(256, 256, kernel_size=(3, 3), stride=(1, 1), padding=(1, 1))\n",
              "    (conv3c): Conv2d(128, 256, kernel_size=(1, 1), stride=(1, 1))\n",
              "    (bn3): BatchNorm2d(256, eps=1e-05, momentum=0.1, affine=True, track_running_stats=True)\n",
              "    (conv4a): Conv2d(256, 256, kernel_size=(3, 3), stride=(1, 1), padding=(1, 1))\n",
              "    (conv4b): Conv2d(256, 256, kernel_size=(3, 3), stride=(1, 1), padding=(1, 1))\n",
              "    (bn4): BatchNorm2d(256, eps=1e-05, momentum=0.1, affine=True, track_running_stats=True)\n",
              "    (conv5a): Conv2d(256, 256, kernel_size=(3, 3), stride=(1, 1), padding=(1, 1))\n",
              "    (conv5b): Conv2d(256, 256, kernel_size=(3, 3), stride=(1, 1), padding=(1, 1))\n",
              "    (conv5c): Conv2d(256, 256, kernel_size=(1, 1), stride=(1, 1))\n",
              "    (bn5): BatchNorm2d(256, eps=1e-05, momentum=0.1, affine=True, track_running_stats=True)\n",
              "    (conv6a): Conv2d(256, 256, kernel_size=(3, 3), stride=(1, 1), padding=(1, 1))\n",
              "    (conv6b): Conv2d(256, 256, kernel_size=(3, 3), stride=(1, 1), padding=(1, 1))\n",
              "    (bn67): BatchNorm2d(256, eps=1e-05, momentum=0.1, affine=True, track_running_stats=True)\n",
              "    (pool1): MaxPool2d(kernel_size=2, stride=2, padding=0, dilation=1, ceil_mode=False)\n",
              "    (pool2): MaxPool2d(kernel_size=1, stride=2, padding=0, dilation=1, ceil_mode=False)\n",
              "    (gpool): AvgPool2d(kernel_size=2, stride=2, padding=0)\n",
              "    (leaky_relu): LeakyReLU(negative_slope=0.01)\n",
              "    (tanh): Tanh()\n",
              "    (fc7): Linear(in_features=256, out_features=1024, bias=True)\n",
              "    (fc8): Linear(in_features=1024, out_features=512, bias=True)\n",
              "    (fc9): Linear(in_features=512, out_features=6, bias=True)\n",
              "  )\n",
              ")"
            ]
          },
          "metadata": {
            "tags": []
          },
          "execution_count": 36
        }
      ]
    },
    {
      "cell_type": "code",
      "metadata": {
        "id": "Y8d9RI3wFIRf",
        "colab_type": "code",
        "colab": {}
      },
      "source": [
        ""
      ],
      "execution_count": 0,
      "outputs": []
    }
  ]
}